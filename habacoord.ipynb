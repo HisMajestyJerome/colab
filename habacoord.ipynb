{
  "nbformat": 4,
  "nbformat_minor": 0,
  "metadata": {
    "colab": {
      "provenance": [],
      "toc_visible": true,
      "authorship_tag": "ABX9TyPGQAzUFhoSUHRu/HD8L5h7",
      "include_colab_link": true
    },
    "kernelspec": {
      "name": "python3",
      "display_name": "Python 3"
    },
    "language_info": {
      "name": "python"
    }
  },
  "cells": [
    {
      "cell_type": "markdown",
      "metadata": {
        "id": "view-in-github",
        "colab_type": "text"
      },
      "source": [
        "<a href=\"https://colab.research.google.com/github/HisMajestyJerome/colab/blob/main/habacoord.ipynb\" target=\"_parent\"><img src=\"https://colab.research.google.com/assets/colab-badge.svg\" alt=\"Open In Colab\"/></a>"
      ]
    },
    {
      "cell_type": "markdown",
      "source": [
        "#Tranformator współrzędnych z geoportalu na AutoCAD"
      ],
      "metadata": {
        "id": "DvV2OJ1-UVhU"
      }
    },
    {
      "cell_type": "code",
      "source": [
        "import pandas as pd\n",
        "import numpy as np\n",
        "\n",
        "# @title Click to  the code cell. { display-mode: \"form\" }\n",
        "geoportal_coord = \"5829608.33 6423194.67 5829598.70 6423173.72 5829639.23 6423153.76 5829650.95 6423176.14 5829608.33 6423194.67\" # @param {type:\"string\"}\n",
        "\n",
        "\n",
        "coord = geoportal_coord.split(\" \")\n",
        "x = []\n",
        "y = []\n",
        "\n",
        "for i in range(len(coord)):\n",
        "  if i % 2 == 0:\n",
        "    y.append(coord[i])\n",
        "  if i % 2 != 0:\n",
        "    x.append(coord[i])\n",
        "\"\"\"\n",
        "print(\"coord:\",coord,\"length:\",len(coord))\n",
        "print(\"X:\",x,\"length:\",len(x))\n",
        "print(\"Y:\",y,\"length\",len(y))\n",
        "\"\"\"\n",
        "\n",
        "xy = []\n",
        "for i in range(len(x)):\n",
        "  xy_i = [x[i],y[i]]\n",
        "  xy.append(xy_i)\n",
        "\n",
        "#print(\"xy\",xy)\n",
        "AutoCAD = \"\"\n",
        "for i in range(len(xy)):\n",
        "  string_xy_i = \",\".join(xy[i])\n",
        "  if i != len(xy)-1:\n",
        "    AutoCAD += string_xy_i + \" \"\n",
        "  else:\n",
        "    AutoCAD += string_xy_i\n",
        "\n",
        "\n",
        "print(\"Wpisz poniższy ciąg do AutoCADa aby utworzyć punkty:\")\n",
        "print(AutoCAD)\n",
        "print(\"=\"*150)\n"
      ],
      "metadata": {
        "colab": {
          "base_uri": "https://localhost:8080/"
        },
        "id": "nlp-_oHnqd0e",
        "outputId": "8017fec7-f9e7-4dc2-d52f-4c595eb1dc58"
      },
      "execution_count": null,
      "outputs": [
        {
          "output_type": "stream",
          "name": "stdout",
          "text": [
            "Wpisz poniższy ciąg do AutoCADa aby utworzyć punkty:\n",
            "6423194.67,5829608.33 6423173.72,5829598.70 6423153.76,5829639.23 6423176.14,5829650.95 6423194.67,5829608.33\n",
            "======================================================================================================================================================\n"
          ]
        }
      ]
    },
    {
      "cell_type": "markdown",
      "source": [
        "#Współrzędne z AutoCAD na wodnoprawne"
      ],
      "metadata": {
        "id": "0-6qQpQgVM_C"
      }
    },
    {
      "cell_type": "code",
      "source": [
        "# @title Click to  the code cell. { display-mode: \"form\" }\n",
        "text = \"Polecenie: '_id Określ punkt:  X = 6423231.1444     Y = 5829594.0315     Z = 0.0000 Polecenie: '_id Określ punkt:  X = 6423212.2751     Y = 5829604.7670     Z = 0.0000 Polecenie: '_id Określ punkt:  X = 6423178.6684     Y = 5829597.3347     Z = 0.0000\"# @param {type:\"string\"}\n",
        "l = text.split(\"Polecenie: '_id Określ punkt:  \")\n",
        "\n",
        "\n",
        "n=1\n",
        "\n",
        "for txt in l:\n",
        "  #print(txt)\n",
        "  z = txt.find(\"Z = \")\n",
        "  x = txt.find(\"X = \")\n",
        "  y = txt.find(\"Y = \")\n",
        "\n",
        "  txt_no_z = txt[:z]\n",
        "  txt_x = txt[0:y].replace(\"     \",'')\n",
        "\n",
        "  if n == len(l):\n",
        "    txt_y = txt[y:z].replace(\"     \",'')\n",
        "  else:\n",
        "    txt_y = txt[y:z].replace(\"     \",',')\n",
        "  n +=1\n",
        "\n",
        "  print(txt_x,\" \",txt_y)\n"
      ],
      "metadata": {
        "colab": {
          "base_uri": "https://localhost:8080/"
        },
        "id": "ErQW7v0-VMgo",
        "outputId": "be5cb7e4-49f4-4ab5-fd2e-86ce2d8307a8"
      },
      "execution_count": null,
      "outputs": [
        {
          "output_type": "stream",
          "name": "stdout",
          "text": [
            "   \n",
            "X = 6423231.1444   Y = 5829594.0315,\n",
            "X = 6423212.2751   Y = 5829604.7670,\n",
            "X = 6423178.6684   Y = 5829597.3347\n"
          ]
        }
      ]
    }
  ]
}